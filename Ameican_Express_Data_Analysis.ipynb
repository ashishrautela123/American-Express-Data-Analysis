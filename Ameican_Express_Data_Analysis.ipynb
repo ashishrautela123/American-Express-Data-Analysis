{
  "nbformat": 4,
  "nbformat_minor": 0,
  "metadata": {
    "colab": {
      "provenance": [],
      "toc_visible": true,
      "include_colab_link": true
    },
    "kernelspec": {
      "name": "python3",
      "display_name": "Python 3"
    }
  },
  "cells": [
    {
      "cell_type": "markdown",
      "metadata": {
        "id": "view-in-github",
        "colab_type": "text"
      },
      "source": [
        "<a href=\"https://colab.research.google.com/github/ashishrautela123/American-Express-Data-Analysis/blob/main/Ameican_Express_Data_Analysis.ipynb\" target=\"_parent\"><img src=\"https://colab.research.google.com/assets/colab-badge.svg\" alt=\"Open In Colab\"/></a>"
      ]
    },
    {
      "cell_type": "markdown",
      "metadata": {
        "id": "Z-jZGC0q0aiY"
      },
      "source": [
        "# Deep Learning via ANN"
      ]
    },
    {
      "cell_type": "markdown",
      "metadata": {
        "id": "jE4Rc_OO0eJM"
      },
      "source": [
        "## Importing libraries"
      ]
    },
    {
      "cell_type": "code",
      "metadata": {
        "id": "PTBjYh8iyvVK"
      },
      "source": [
        "import numpy as np\n",
        "import pandas as pd\n",
        "import tensorflow as tf"
      ],
      "execution_count": 1,
      "outputs": []
    },
    {
      "cell_type": "code",
      "metadata": {
        "colab": {
          "base_uri": "https://localhost:8080/",
          "height": 36
        },
        "id": "o0Yhbfo4x39t",
        "outputId": "2d39dfd7-60d4-453d-f604-033625a562b5"
      },
      "source": [
        "tf.__version__"
      ],
      "execution_count": 2,
      "outputs": [
        {
          "output_type": "execute_result",
          "data": {
            "text/plain": [
              "'2.12.0'"
            ],
            "application/vnd.google.colaboratory.intrinsic+json": {
              "type": "string"
            }
          },
          "metadata": {},
          "execution_count": 2
        }
      ]
    },
    {
      "cell_type": "markdown",
      "metadata": {
        "id": "A9-xGHd20gY1"
      },
      "source": [
        "## Importing dataset"
      ]
    },
    {
      "cell_type": "code",
      "metadata": {
        "id": "IeX0-BBoyxsw"
      },
      "source": [
        "dataset = pd.read_csv('American.csv')\n",
        "X = dataset.iloc[:, 0:-1].values\n",
        "y = dataset.iloc[:, -1].values"
      ],
      "execution_count": 3,
      "outputs": []
    },
    {
      "cell_type": "code",
      "metadata": {
        "colab": {
          "base_uri": "https://localhost:8080/"
        },
        "id": "WAFCffJ-06iL",
        "outputId": "24f7ee28-bd86-42bd-bf6e-1d813db50b7a"
      },
      "source": [
        "print(X)"
      ],
      "execution_count": 4,
      "outputs": [
        {
          "output_type": "stream",
          "name": "stdout",
          "text": [
            "[[553 'Delhi' 'Female' ... 4 1 274150]\n",
            " [447 'Bengaluru' 'Male' ... 4 1 519360]\n",
            " [501 'Delhi' 'Female' ... 4 1 545501]\n",
            " ...\n",
            " [627 'Mumbai' 'Female' ... 4 0 494067]\n",
            " [600 'Bengaluru' 'Female' ... 2 1 109375]\n",
            " [553 'Delhi' 'Male' ... 4 1 180031]]\n"
          ]
        }
      ]
    },
    {
      "cell_type": "markdown",
      "metadata": {
        "id": "Q_e8LuHYyX5r"
      },
      "source": [
        "## Encoding categorical data"
      ]
    },
    {
      "cell_type": "markdown",
      "metadata": {
        "id": "NFKMHJzhy4pE"
      },
      "source": [
        "### Gender column : Label Encoding"
      ]
    },
    {
      "cell_type": "code",
      "metadata": {
        "id": "_P_m9jU0yr1A"
      },
      "source": [
        "from sklearn.preprocessing import LabelEncoder\n",
        "label_encoder = LabelEncoder()\n",
        "X[:, 2] = label_encoder.fit_transform(X[:, 2])"
      ],
      "execution_count": 5,
      "outputs": []
    },
    {
      "cell_type": "code",
      "metadata": {
        "colab": {
          "base_uri": "https://localhost:8080/"
        },
        "id": "biOnK7s2yvt-",
        "outputId": "c72484e8-9550-4f85-bccb-50e882f51878"
      },
      "source": [
        "print(X)"
      ],
      "execution_count": 6,
      "outputs": [
        {
          "output_type": "stream",
          "name": "stdout",
          "text": [
            "[[553 'Delhi' 0 ... 4 1 274150]\n",
            " [447 'Bengaluru' 1 ... 4 1 519360]\n",
            " [501 'Delhi' 0 ... 4 1 545501]\n",
            " ...\n",
            " [627 'Mumbai' 0 ... 4 0 494067]\n",
            " [600 'Bengaluru' 0 ... 2 1 109375]\n",
            " [553 'Delhi' 1 ... 4 1 180031]]\n"
          ]
        }
      ]
    },
    {
      "cell_type": "markdown",
      "metadata": {
        "id": "W27VpQo7zRUo"
      },
      "source": [
        "### Geography column : One hot Encoding"
      ]
    },
    {
      "cell_type": "code",
      "metadata": {
        "id": "-2TRCRO8zVly"
      },
      "source": [
        "from sklearn.compose import ColumnTransformer\n",
        "from sklearn.preprocessing import OneHotEncoder\n",
        "ct = ColumnTransformer(transformers=[('encoder', OneHotEncoder(), [1])], remainder='passthrough')\n",
        "X = np.array(ct.fit_transform(X))"
      ],
      "execution_count": 7,
      "outputs": []
    },
    {
      "cell_type": "code",
      "metadata": {
        "colab": {
          "base_uri": "https://localhost:8080/"
        },
        "id": "Lt13uSQ8ziR4",
        "outputId": "d29ba073-ff02-4e09-d1e2-462504a199f2"
      },
      "source": [
        "print(X)"
      ],
      "execution_count": 8,
      "outputs": [
        {
          "output_type": "stream",
          "name": "stdout",
          "text": [
            "[[0.0 1.0 0.0 ... 4 1 274150]\n",
            " [1.0 0.0 0.0 ... 4 1 519360]\n",
            " [0.0 1.0 0.0 ... 4 1 545501]\n",
            " ...\n",
            " [0.0 0.0 1.0 ... 4 0 494067]\n",
            " [1.0 0.0 0.0 ... 2 1 109375]\n",
            " [0.0 1.0 0.0 ... 4 1 180031]]\n"
          ]
        }
      ]
    },
    {
      "cell_type": "markdown",
      "metadata": {
        "id": "8REFJFGC0lRN"
      },
      "source": [
        "## Splitting dataset into Training & Test set"
      ]
    },
    {
      "cell_type": "code",
      "metadata": {
        "id": "Cs6amFsNy4Ri"
      },
      "source": [
        "from sklearn.model_selection import train_test_split\n",
        "X_train, X_test, y_train, y_test = train_test_split(X, y, test_size = 0.2, random_state = 0)"
      ],
      "execution_count": 9,
      "outputs": []
    },
    {
      "cell_type": "markdown",
      "metadata": {
        "id": "9WJ3OvMf2Mpz"
      },
      "source": [
        "## Feature Scaling"
      ]
    },
    {
      "cell_type": "code",
      "metadata": {
        "id": "_lPukZ7C2PYR"
      },
      "source": [
        "from sklearn.preprocessing import StandardScaler\n",
        "sc = StandardScaler()\n",
        "X_train = sc.fit_transform(X_train)\n",
        "X_test = sc.transform(X_test)"
      ],
      "execution_count": 10,
      "outputs": []
    },
    {
      "cell_type": "markdown",
      "metadata": {
        "id": "2QUFYaoH00H6"
      },
      "source": [
        "## ANN"
      ]
    },
    {
      "cell_type": "markdown",
      "metadata": {
        "id": "fmmakWMe2Xe0"
      },
      "source": [
        "### Initialization"
      ]
    },
    {
      "cell_type": "code",
      "metadata": {
        "id": "2iFA5Qkn49UW"
      },
      "source": [
        "ann = tf.keras.models.Sequential()"
      ],
      "execution_count": 11,
      "outputs": []
    },
    {
      "cell_type": "markdown",
      "metadata": {
        "id": "oZs3tLKX2a0c"
      },
      "source": [
        "### Adding input layer and first hidden layer"
      ]
    },
    {
      "cell_type": "code",
      "metadata": {
        "id": "BqUEsAVP5Gp7"
      },
      "source": [
        "ann.add(tf.keras.layers.Dense(units=6, activation='relu'))"
      ],
      "execution_count": 12,
      "outputs": []
    },
    {
      "cell_type": "markdown",
      "metadata": {
        "id": "3VMq7Dzx2inS"
      },
      "source": [
        "### Adding second hidden layer"
      ]
    },
    {
      "cell_type": "code",
      "metadata": {
        "id": "5iqN64Qb5XpM"
      },
      "source": [
        "ann.add(tf.keras.layers.Dense(units=6, activation='relu'))"
      ],
      "execution_count": 13,
      "outputs": []
    },
    {
      "cell_type": "markdown",
      "metadata": {
        "id": "rf0PPM2O2mY4"
      },
      "source": [
        "### Adding output layer"
      ]
    },
    {
      "cell_type": "code",
      "metadata": {
        "id": "16bVnSmy5izv"
      },
      "source": [
        "ann.add(tf.keras.layers.Dense(units=1, activation='sigmoid'))"
      ],
      "execution_count": 14,
      "outputs": []
    },
    {
      "cell_type": "markdown",
      "metadata": {
        "id": "-Dw4Khi70u9g"
      },
      "source": [
        "## ANN Training"
      ]
    },
    {
      "cell_type": "markdown",
      "metadata": {
        "id": "3DGW0tMz6vZF"
      },
      "source": [
        "### Compiling ANN"
      ]
    },
    {
      "cell_type": "code",
      "metadata": {
        "id": "qpRleG206-Cy"
      },
      "source": [
        "ann.compile(optimizer = 'adam', loss = 'binary_crossentropy', metrics = ['accuracy'])"
      ],
      "execution_count": 15,
      "outputs": []
    },
    {
      "cell_type": "markdown",
      "metadata": {
        "id": "JcIyviNr2tiO"
      },
      "source": [
        "### Training on training dataset"
      ]
    },
    {
      "cell_type": "code",
      "metadata": {
        "colab": {
          "base_uri": "https://localhost:8080/"
        },
        "id": "U411c0oi5pGF",
        "outputId": "e02ee03b-8901-4b4f-d6f0-098941944b3d"
      },
      "source": [
        "ann.fit(X_train, y_train, batch_size = 32, epochs = 120)"
      ],
      "execution_count": 16,
      "outputs": [
        {
          "output_type": "stream",
          "name": "stdout",
          "text": [
            "Epoch 1/120\n",
            "249/249 [==============================] - 1s 2ms/step - loss: 0.5943 - accuracy: 0.7184\n",
            "Epoch 2/120\n",
            "249/249 [==============================] - 1s 2ms/step - loss: 0.4790 - accuracy: 0.7970\n",
            "Epoch 3/120\n",
            "249/249 [==============================] - 1s 3ms/step - loss: 0.4552 - accuracy: 0.7969\n",
            "Epoch 4/120\n",
            "249/249 [==============================] - 1s 2ms/step - loss: 0.4450 - accuracy: 0.7981\n",
            "Epoch 5/120\n",
            "249/249 [==============================] - 1s 2ms/step - loss: 0.4391 - accuracy: 0.8008\n",
            "Epoch 6/120\n",
            "249/249 [==============================] - 1s 2ms/step - loss: 0.4351 - accuracy: 0.8039\n",
            "Epoch 7/120\n",
            "249/249 [==============================] - 0s 2ms/step - loss: 0.4327 - accuracy: 0.8056\n",
            "Epoch 8/120\n",
            "249/249 [==============================] - 0s 2ms/step - loss: 0.4312 - accuracy: 0.8073\n",
            "Epoch 9/120\n",
            "249/249 [==============================] - 0s 2ms/step - loss: 0.4301 - accuracy: 0.8077\n",
            "Epoch 10/120\n",
            "249/249 [==============================] - 0s 2ms/step - loss: 0.4288 - accuracy: 0.8081\n",
            "Epoch 11/120\n",
            "249/249 [==============================] - 0s 2ms/step - loss: 0.4278 - accuracy: 0.8090\n",
            "Epoch 12/120\n",
            "249/249 [==============================] - 0s 2ms/step - loss: 0.4269 - accuracy: 0.8078\n",
            "Epoch 13/120\n",
            "249/249 [==============================] - 0s 1ms/step - loss: 0.4264 - accuracy: 0.8077\n",
            "Epoch 14/120\n",
            "249/249 [==============================] - 0s 2ms/step - loss: 0.4250 - accuracy: 0.8090\n",
            "Epoch 15/120\n",
            "249/249 [==============================] - 0s 2ms/step - loss: 0.4239 - accuracy: 0.8092\n",
            "Epoch 16/120\n",
            "249/249 [==============================] - 0s 2ms/step - loss: 0.4232 - accuracy: 0.8093\n",
            "Epoch 17/120\n",
            "249/249 [==============================] - 0s 2ms/step - loss: 0.4219 - accuracy: 0.8081\n",
            "Epoch 18/120\n",
            "249/249 [==============================] - 0s 2ms/step - loss: 0.4207 - accuracy: 0.8106\n",
            "Epoch 19/120\n",
            "249/249 [==============================] - 0s 2ms/step - loss: 0.4196 - accuracy: 0.8102\n",
            "Epoch 20/120\n",
            "249/249 [==============================] - 0s 2ms/step - loss: 0.4183 - accuracy: 0.8090\n",
            "Epoch 21/120\n",
            "249/249 [==============================] - 0s 2ms/step - loss: 0.4169 - accuracy: 0.8112\n",
            "Epoch 22/120\n",
            "249/249 [==============================] - 0s 2ms/step - loss: 0.4156 - accuracy: 0.8125\n",
            "Epoch 23/120\n",
            "249/249 [==============================] - 0s 2ms/step - loss: 0.4143 - accuracy: 0.8117\n",
            "Epoch 24/120\n",
            "249/249 [==============================] - 0s 2ms/step - loss: 0.4133 - accuracy: 0.8126\n",
            "Epoch 25/120\n",
            "249/249 [==============================] - 0s 2ms/step - loss: 0.4118 - accuracy: 0.8097\n",
            "Epoch 26/120\n",
            "249/249 [==============================] - 0s 2ms/step - loss: 0.4110 - accuracy: 0.8115\n",
            "Epoch 27/120\n",
            "249/249 [==============================] - 0s 2ms/step - loss: 0.4096 - accuracy: 0.8121\n",
            "Epoch 28/120\n",
            "249/249 [==============================] - 0s 2ms/step - loss: 0.4086 - accuracy: 0.8134\n",
            "Epoch 29/120\n",
            "249/249 [==============================] - 0s 2ms/step - loss: 0.4072 - accuracy: 0.8143\n",
            "Epoch 30/120\n",
            "249/249 [==============================] - 0s 2ms/step - loss: 0.4062 - accuracy: 0.8148\n",
            "Epoch 31/120\n",
            "249/249 [==============================] - 0s 2ms/step - loss: 0.4048 - accuracy: 0.8172\n",
            "Epoch 32/120\n",
            "249/249 [==============================] - 1s 2ms/step - loss: 0.4030 - accuracy: 0.8183\n",
            "Epoch 33/120\n",
            "249/249 [==============================] - 1s 2ms/step - loss: 0.4013 - accuracy: 0.8183\n",
            "Epoch 34/120\n",
            "249/249 [==============================] - 1s 2ms/step - loss: 0.3994 - accuracy: 0.8194\n",
            "Epoch 35/120\n",
            "249/249 [==============================] - 1s 2ms/step - loss: 0.3972 - accuracy: 0.8206\n",
            "Epoch 36/120\n",
            "249/249 [==============================] - 0s 2ms/step - loss: 0.3954 - accuracy: 0.8224\n",
            "Epoch 37/120\n",
            "249/249 [==============================] - 0s 2ms/step - loss: 0.3928 - accuracy: 0.8266\n",
            "Epoch 38/120\n",
            "249/249 [==============================] - 0s 2ms/step - loss: 0.3898 - accuracy: 0.8276\n",
            "Epoch 39/120\n",
            "249/249 [==============================] - 0s 2ms/step - loss: 0.3868 - accuracy: 0.8320\n",
            "Epoch 40/120\n",
            "249/249 [==============================] - 0s 2ms/step - loss: 0.3838 - accuracy: 0.8308\n",
            "Epoch 41/120\n",
            "249/249 [==============================] - 0s 2ms/step - loss: 0.3809 - accuracy: 0.8357\n",
            "Epoch 42/120\n",
            "249/249 [==============================] - 0s 2ms/step - loss: 0.3779 - accuracy: 0.8369\n",
            "Epoch 43/120\n",
            "249/249 [==============================] - 0s 2ms/step - loss: 0.3759 - accuracy: 0.8368\n",
            "Epoch 44/120\n",
            "249/249 [==============================] - 0s 2ms/step - loss: 0.3742 - accuracy: 0.8403\n",
            "Epoch 45/120\n",
            "249/249 [==============================] - 0s 2ms/step - loss: 0.3721 - accuracy: 0.8415\n",
            "Epoch 46/120\n",
            "249/249 [==============================] - 0s 2ms/step - loss: 0.3702 - accuracy: 0.8404\n",
            "Epoch 47/120\n",
            "249/249 [==============================] - 0s 2ms/step - loss: 0.3687 - accuracy: 0.8428\n",
            "Epoch 48/120\n",
            "249/249 [==============================] - 0s 2ms/step - loss: 0.3677 - accuracy: 0.8428\n",
            "Epoch 49/120\n",
            "249/249 [==============================] - 0s 2ms/step - loss: 0.3662 - accuracy: 0.8444\n",
            "Epoch 50/120\n",
            "249/249 [==============================] - 0s 2ms/step - loss: 0.3651 - accuracy: 0.8428\n",
            "Epoch 51/120\n",
            "249/249 [==============================] - 0s 2ms/step - loss: 0.3647 - accuracy: 0.8450\n",
            "Epoch 52/120\n",
            "249/249 [==============================] - 0s 2ms/step - loss: 0.3636 - accuracy: 0.8469\n",
            "Epoch 53/120\n",
            "249/249 [==============================] - 0s 2ms/step - loss: 0.3628 - accuracy: 0.8465\n",
            "Epoch 54/120\n",
            "249/249 [==============================] - 0s 2ms/step - loss: 0.3625 - accuracy: 0.8459\n",
            "Epoch 55/120\n",
            "249/249 [==============================] - 0s 2ms/step - loss: 0.3614 - accuracy: 0.8469\n",
            "Epoch 56/120\n",
            "249/249 [==============================] - 0s 2ms/step - loss: 0.3611 - accuracy: 0.8485\n",
            "Epoch 57/120\n",
            "249/249 [==============================] - 0s 2ms/step - loss: 0.3604 - accuracy: 0.8481\n",
            "Epoch 58/120\n",
            "249/249 [==============================] - 0s 2ms/step - loss: 0.3597 - accuracy: 0.8470\n",
            "Epoch 59/120\n",
            "249/249 [==============================] - 0s 2ms/step - loss: 0.3594 - accuracy: 0.8470\n",
            "Epoch 60/120\n",
            "249/249 [==============================] - 0s 2ms/step - loss: 0.3590 - accuracy: 0.8484\n",
            "Epoch 61/120\n",
            "249/249 [==============================] - 1s 2ms/step - loss: 0.3585 - accuracy: 0.8489\n",
            "Epoch 62/120\n",
            "249/249 [==============================] - 1s 2ms/step - loss: 0.3587 - accuracy: 0.8476\n",
            "Epoch 63/120\n",
            "249/249 [==============================] - 1s 2ms/step - loss: 0.3578 - accuracy: 0.8494\n",
            "Epoch 64/120\n",
            "249/249 [==============================] - 1s 2ms/step - loss: 0.3579 - accuracy: 0.8478\n",
            "Epoch 65/120\n",
            "249/249 [==============================] - 1s 2ms/step - loss: 0.3574 - accuracy: 0.8501\n",
            "Epoch 66/120\n",
            "249/249 [==============================] - 0s 2ms/step - loss: 0.3572 - accuracy: 0.8490\n",
            "Epoch 67/120\n",
            "249/249 [==============================] - 0s 2ms/step - loss: 0.3569 - accuracy: 0.8495\n",
            "Epoch 68/120\n",
            "249/249 [==============================] - 0s 2ms/step - loss: 0.3568 - accuracy: 0.8500\n",
            "Epoch 69/120\n",
            "249/249 [==============================] - 0s 2ms/step - loss: 0.3568 - accuracy: 0.8504\n",
            "Epoch 70/120\n",
            "249/249 [==============================] - 0s 2ms/step - loss: 0.3562 - accuracy: 0.8495\n",
            "Epoch 71/120\n",
            "249/249 [==============================] - 0s 2ms/step - loss: 0.3560 - accuracy: 0.8494\n",
            "Epoch 72/120\n",
            "249/249 [==============================] - 0s 2ms/step - loss: 0.3559 - accuracy: 0.8512\n",
            "Epoch 73/120\n",
            "249/249 [==============================] - 0s 2ms/step - loss: 0.3561 - accuracy: 0.8495\n",
            "Epoch 74/120\n",
            "249/249 [==============================] - 0s 2ms/step - loss: 0.3554 - accuracy: 0.8494\n",
            "Epoch 75/120\n",
            "249/249 [==============================] - 0s 2ms/step - loss: 0.3556 - accuracy: 0.8486\n",
            "Epoch 76/120\n",
            "249/249 [==============================] - 0s 2ms/step - loss: 0.3550 - accuracy: 0.8505\n",
            "Epoch 77/120\n",
            "249/249 [==============================] - 0s 2ms/step - loss: 0.3550 - accuracy: 0.8495\n",
            "Epoch 78/120\n",
            "249/249 [==============================] - 0s 2ms/step - loss: 0.3545 - accuracy: 0.8495\n",
            "Epoch 79/120\n",
            "249/249 [==============================] - 0s 2ms/step - loss: 0.3546 - accuracy: 0.8494\n",
            "Epoch 80/120\n",
            "249/249 [==============================] - 0s 2ms/step - loss: 0.3544 - accuracy: 0.8493\n",
            "Epoch 81/120\n",
            "249/249 [==============================] - 0s 2ms/step - loss: 0.3537 - accuracy: 0.8496\n",
            "Epoch 82/120\n",
            "249/249 [==============================] - 0s 2ms/step - loss: 0.3537 - accuracy: 0.8496\n",
            "Epoch 83/120\n",
            "249/249 [==============================] - 0s 2ms/step - loss: 0.3538 - accuracy: 0.8510\n",
            "Epoch 84/120\n",
            "249/249 [==============================] - 0s 2ms/step - loss: 0.3536 - accuracy: 0.8493\n",
            "Epoch 85/120\n",
            "249/249 [==============================] - 0s 2ms/step - loss: 0.3539 - accuracy: 0.8506\n",
            "Epoch 86/120\n",
            "249/249 [==============================] - 0s 2ms/step - loss: 0.3538 - accuracy: 0.8504\n",
            "Epoch 87/120\n",
            "249/249 [==============================] - 0s 2ms/step - loss: 0.3537 - accuracy: 0.8498\n",
            "Epoch 88/120\n",
            "249/249 [==============================] - 0s 2ms/step - loss: 0.3532 - accuracy: 0.8500\n",
            "Epoch 89/120\n",
            "249/249 [==============================] - 0s 2ms/step - loss: 0.3531 - accuracy: 0.8512\n",
            "Epoch 90/120\n",
            "249/249 [==============================] - 1s 2ms/step - loss: 0.3531 - accuracy: 0.8498\n",
            "Epoch 91/120\n",
            "249/249 [==============================] - 1s 2ms/step - loss: 0.3529 - accuracy: 0.8494\n",
            "Epoch 92/120\n",
            "249/249 [==============================] - 1s 2ms/step - loss: 0.3533 - accuracy: 0.8504\n",
            "Epoch 93/120\n",
            "249/249 [==============================] - 1s 2ms/step - loss: 0.3530 - accuracy: 0.8500\n",
            "Epoch 94/120\n",
            "249/249 [==============================] - 1s 2ms/step - loss: 0.3522 - accuracy: 0.8512\n",
            "Epoch 95/120\n",
            "249/249 [==============================] - 0s 2ms/step - loss: 0.3525 - accuracy: 0.8510\n",
            "Epoch 96/120\n",
            "249/249 [==============================] - 0s 2ms/step - loss: 0.3524 - accuracy: 0.8495\n",
            "Epoch 97/120\n",
            "249/249 [==============================] - 0s 2ms/step - loss: 0.3529 - accuracy: 0.8484\n",
            "Epoch 98/120\n",
            "249/249 [==============================] - 0s 2ms/step - loss: 0.3527 - accuracy: 0.8508\n",
            "Epoch 99/120\n",
            "249/249 [==============================] - 0s 2ms/step - loss: 0.3524 - accuracy: 0.8506\n",
            "Epoch 100/120\n",
            "249/249 [==============================] - 0s 2ms/step - loss: 0.3524 - accuracy: 0.8504\n",
            "Epoch 101/120\n",
            "249/249 [==============================] - 0s 2ms/step - loss: 0.3522 - accuracy: 0.8510\n",
            "Epoch 102/120\n",
            "249/249 [==============================] - 0s 2ms/step - loss: 0.3517 - accuracy: 0.8500\n",
            "Epoch 103/120\n",
            "249/249 [==============================] - 0s 2ms/step - loss: 0.3523 - accuracy: 0.8494\n",
            "Epoch 104/120\n",
            "249/249 [==============================] - 0s 2ms/step - loss: 0.3526 - accuracy: 0.8522\n",
            "Epoch 105/120\n",
            "249/249 [==============================] - 0s 2ms/step - loss: 0.3519 - accuracy: 0.8513\n",
            "Epoch 106/120\n",
            "249/249 [==============================] - 0s 2ms/step - loss: 0.3518 - accuracy: 0.8503\n",
            "Epoch 107/120\n",
            "249/249 [==============================] - 0s 2ms/step - loss: 0.3519 - accuracy: 0.8504\n",
            "Epoch 108/120\n",
            "249/249 [==============================] - 0s 2ms/step - loss: 0.3517 - accuracy: 0.8518\n",
            "Epoch 109/120\n",
            "249/249 [==============================] - 0s 2ms/step - loss: 0.3516 - accuracy: 0.8525\n",
            "Epoch 110/120\n",
            "249/249 [==============================] - 0s 2ms/step - loss: 0.3523 - accuracy: 0.8519\n",
            "Epoch 111/120\n",
            "249/249 [==============================] - 0s 2ms/step - loss: 0.3516 - accuracy: 0.8517\n",
            "Epoch 112/120\n",
            "249/249 [==============================] - 0s 2ms/step - loss: 0.3515 - accuracy: 0.8512\n",
            "Epoch 113/120\n",
            "249/249 [==============================] - 0s 2ms/step - loss: 0.3519 - accuracy: 0.8519\n",
            "Epoch 114/120\n",
            "249/249 [==============================] - 0s 2ms/step - loss: 0.3511 - accuracy: 0.8508\n",
            "Epoch 115/120\n",
            "249/249 [==============================] - 0s 2ms/step - loss: 0.3513 - accuracy: 0.8518\n",
            "Epoch 116/120\n",
            "249/249 [==============================] - 0s 2ms/step - loss: 0.3511 - accuracy: 0.8523\n",
            "Epoch 117/120\n",
            "249/249 [==============================] - 0s 2ms/step - loss: 0.3510 - accuracy: 0.8522\n",
            "Epoch 118/120\n",
            "249/249 [==============================] - 0s 2ms/step - loss: 0.3513 - accuracy: 0.8519\n",
            "Epoch 119/120\n",
            "249/249 [==============================] - 1s 2ms/step - loss: 0.3509 - accuracy: 0.8517\n",
            "Epoch 120/120\n",
            "249/249 [==============================] - 1s 2ms/step - loss: 0.3506 - accuracy: 0.8535\n"
          ]
        },
        {
          "output_type": "execute_result",
          "data": {
            "text/plain": [
              "<keras.callbacks.History at 0x78d049b71cc0>"
            ]
          },
          "metadata": {},
          "execution_count": 16
        }
      ]
    },
    {
      "cell_type": "markdown",
      "metadata": {
        "id": "YDjEXibj22y8"
      },
      "source": [
        "# Predictions"
      ]
    },
    {
      "cell_type": "markdown",
      "metadata": {
        "id": "8KQtJPsR28Km"
      },
      "source": [
        "### Single Prediction"
      ]
    },
    {
      "cell_type": "code",
      "metadata": {
        "id": "u33xFIS23KtS",
        "colab": {
          "base_uri": "https://localhost:8080/"
        },
        "outputId": "e3d94387-ca25-4818-ff5e-33071b4dd932"
      },
      "source": [
        "print(ann.predict(sc.transform([[0.0, 1.0, 0.0, 501, 0, 32, 2, 0.0, 4, 1, 545501]])) > 0.5)"
      ],
      "execution_count": 17,
      "outputs": [
        {
          "output_type": "stream",
          "name": "stdout",
          "text": [
            "1/1 [==============================] - 0s 475ms/step\n",
            "[[False]]\n"
          ]
        }
      ]
    },
    {
      "cell_type": "markdown",
      "metadata": {
        "id": "0HxpzoQo2_Gf"
      },
      "source": [
        "### Predication on testset"
      ]
    },
    {
      "cell_type": "code",
      "metadata": {
        "id": "tUCnLY6e3Imj",
        "colab": {
          "base_uri": "https://localhost:8080/"
        },
        "outputId": "710ddde8-f826-4c65-fed7-ba051d1240c9"
      },
      "source": [
        "y_pred = ann.predict(X_test)\n",
        "y_pred = (y_pred > 0.5)\n",
        "print(np.concatenate((y_pred.reshape(len(y_pred),1), y_test.reshape(len(y_test),1)),1))"
      ],
      "execution_count": 18,
      "outputs": [
        {
          "output_type": "stream",
          "name": "stdout",
          "text": [
            "63/63 [==============================] - 0s 1ms/step\n",
            "[[0 1]\n",
            " [0 0]\n",
            " [0 0]\n",
            " ...\n",
            " [0 1]\n",
            " [0 0]\n",
            " [1 1]]\n"
          ]
        }
      ]
    },
    {
      "cell_type": "markdown",
      "metadata": {
        "id": "_YpFOI9d3C-5"
      },
      "source": [
        "### Confusion Matrix"
      ]
    },
    {
      "cell_type": "code",
      "metadata": {
        "id": "UYvqw6qvy5J4",
        "colab": {
          "base_uri": "https://localhost:8080/"
        },
        "outputId": "0e39095b-664d-4721-891e-e7ec6b1ad9f8"
      },
      "source": [
        "from sklearn.metrics import confusion_matrix, accuracy_score\n",
        "cm = confusion_matrix(y_test, y_pred)\n",
        "print(cm)\n",
        "accuracy_score(y_test, y_pred)"
      ],
      "execution_count": 19,
      "outputs": [
        {
          "output_type": "stream",
          "name": "stdout",
          "text": [
            "[[1505   68]\n",
            " [ 219  194]]\n"
          ]
        },
        {
          "output_type": "execute_result",
          "data": {
            "text/plain": [
              "0.8554884189325277"
            ]
          },
          "metadata": {},
          "execution_count": 19
        }
      ]
    }
  ]
}